{
 "cells": [
  {
   "cell_type": "code",
   "execution_count": 1,
   "id": "5c24ba98",
   "metadata": {},
   "outputs": [],
   "source": [
    "import pandas as pd\n",
    "import numpy as np\n",
    "import json\n",
    "import re\n",
    "\n",
    "import matplotlib.pyplot as plt\n",
    "%matplotlib inline"
   ]
  },
  {
   "cell_type": "markdown",
   "id": "66f03230",
   "metadata": {},
   "source": [
    "### Reading companies data"
   ]
  },
  {
   "cell_type": "code",
   "execution_count": 2,
   "id": "604cebac",
   "metadata": {},
   "outputs": [],
   "source": [
    "with open('company_scraping_raw.json') as f:\n",
    "    data = f.read()"
   ]
  },
  {
   "cell_type": "markdown",
   "id": "eaf2bb93",
   "metadata": {},
   "source": [
    "#### Cleaned Data using regex\n",
    "\n",
    "* `\\[\\d+\\]`\n",
    "* `\"(\"` to `\"\"`\n",
    "* `\")\"` to `\"\"`\n",
    "* `\"CEO\"` to `\"\"`\n",
    "* `\"(CEO)\"` to `\"\"`\n",
    "* `\"President\"` to `\"\"`\n",
    "* `Interim` to ` `\n",
    "* `\"&\"` to `\"\"`\n",
    "* `\",\"` to `\"\"`\n",
    "* `\"Independent\"` to `\"\"`\n",
    "* `[,` to `[`\n",
    "* `, ]` to `]`\n",
    "* `\\\\u00a0` to ` `\n",
    "* `\\(\\d.*\\)` to ` `\n",
    "* `Full List` to ` `\n",
    "* `, \"\" ,` to `,`\n",
    "* `,\"` to `\"`\n",
    "* `,\",` to `\",`\n",
    "* `(\",` to `\",`\n",
    "* `\\d+ years ago` to ` `\n",
    "* `\"; \"` to `\"\"`\n",
    "* `\"See Below\"` to `\"\"`\n",
    "* `\"&` to `\"`\n",
    "* `\"and ` to `\"`\n",
    "* `\"and\"` to `\"\"`\n",
    "* `\\(\"` to `\"`\n",
    "* `\\(?CFO\\)?` to `\"\"`\n",
    "* `\\b\\(?CMO\\)?\\b|\\b\\(?CPO\\)?\\b|\\b\\(?COO\\)?\\b|\\b\\(?CPO\\)?\\b|\\b\\(?CRO\\)?\\b|\\b\\(?CTO\\)?|\\b\\(?CEO\\)?` to `\"\"`\n",
    "* `\" \"` to `\"\"`\n",
    "* `\"\\(\\d+\"` to `\"\"`\n",
    "* ` \\( \"` to `\"`\n",
    "* ` \\( ,` to `,`\n",
    "* `\\bChairman\\b|\\bVice\\b|\\bPresident\\b|\\bExecutive\\b` to ` `\n",
    "* `\\(Founder\\)` to ` `\n",
    "* `\"\\.\"` to `\"\"`\n",
    "* `\"\\( \\)\"` to `\"\"`\n",
    "* `\\bEmeritus\\b|\\bSVP\\b|\\bVP\\b|\\bEVP\\b` to ` `\n",
    "* `\\bS&P 500\\b|\\bS&P 100\\b|\\bNYSE\\b|\\bcomponent\\b|\\bNasdaq-100\\b|\\bS&P 600\\b|\\bRussell 2000\\b|\\bDAX\\b`\n",
    "* `\\bNasdaq\\b`\n"
   ]
  },
  {
   "cell_type": "code",
   "execution_count": 3,
   "id": "cb535a85",
   "metadata": {},
   "outputs": [
    {
     "name": "stdout",
     "output_type": "stream",
     "text": [
      "5316124\n",
      "\\[\\d+\\]         5294774\n",
      "\"\\(\"            5289787\n",
      "\"\\)\"            5283064\n",
      "\"CEO\"           5279788\n",
      "\"President\"     5275810\n",
      "\"\\(CEO\\)\"       5274975\n",
      "Interim         5274856\n",
      "\"&\"             5274548\n",
      "\",\"             5266862\n",
      "\"Independent\"   5266411\n",
      "\\(\\d.*\\)        5184220\n",
      "Full List       5184175\n",
      "\\,\\\"            5182937\n",
      "\\(\\\",           5181785\n",
      "\\d+ years ago   5172095\n",
      "\\\"; \\\"          5170503\n",
      "\"See Below\"     5170494\n",
      "\\\"&             5170463\n",
      "\\\"and           5169847\n",
      "\\(\\\"            5169744\n",
      "\\\"and\\\"         5168199\n",
      "\"\\(\\d+\"         5167854\n",
      "\\b\\(?CFO\\)?\\b|\\b\\(?CMO\\)?\\b|\\b\\(?CPO\\)?\\b|\\b\\(?COO\\)?\\b|\\b\\(?CPO\\)?\\b|\\b\\(?CRO\\)?\\b|\\b\\(?CTO\\)?|\\b\\(?CEO\\)? 5160872\n",
      "\\bChairman\\b|\\bVice\\b|\\bPresident\\b|\\bExecutive\\b 5140709\n",
      "\\(Founder\\)     5140589\n",
      "\"\\.\"            5140560\n",
      "\"\\( \\)\"         5140170\n",
      "\\bEmeritus\\b|\\bSVP\\b|\\bVP\\b|\\bEVP\\b 5139679\n",
      "\\bS&P 500\\b|\\bS&P 100\\b|\\bNYSE\\b|\\bcomponent\\b|\\bNasdaq-100\\b|\\bS&P 600\\b|\\bRussell 2000\\b|\\bDAX\\b 5120744\n",
      "\\bNasdaq\\b      5117894\n",
      "\" \"             5117468\n",
      ",\\\",            5117467\n",
      " \\( \"           5117458\n",
      " \\( ,\"          5117458\n",
      "\\[,             5117458\n",
      "\\, \\],          5117458\n",
      "\\\\u00a0,        5117458\n",
      ", \"\" ,          5117458\n"
     ]
    }
   ],
   "source": [
    "patterns = {\n",
    "    r'\\[\\d+\\]':'',\n",
    "    r'\"\\(\"':'\"\"',\n",
    "    r'\"\\)\"':'\"\"',\n",
    "    r'\"CEO\"':'\"\"',\n",
    "    r'\"President\"':'\"\"',\n",
    "    r'\"\\(CEO\\)\"':'\"\"',\n",
    "    r'Interim':'',\n",
    "    r'\"&\"':'\"\"',\n",
    "    r'\",\"':'\"\"',\n",
    "    r'\"Independent\"':'\"\"',\n",
    "    r'\\(\\d.*\\)': '',\n",
    "    r'Full List': '',\n",
    "    r'\\,\\\"': '\"',\n",
    "    r'\\(\\\",': '\",',\n",
    "    r'\\d+ years ago': '',\n",
    "    r'\\\"; \\\"': '\"\"',\n",
    "    r'\"See Below\"': '\"\"',\n",
    "    r'\\\"&': '\"',\n",
    "    r'\\\"and ': '\"',\n",
    "    r'\\(\\\"': '\"',\n",
    "    r'\\\"and\\\"': '\"\"',\n",
    "    r'\"\\(\\d+\"': '\"\"',\n",
    "    r'\\b\\(?CFO\\)?\\b|\\b\\(?CMO\\)?\\b|\\b\\(?CPO\\)?\\b|\\b\\(?COO\\)?\\b|\\b\\(?CPO\\)?\\b|\\b\\(?CRO\\)?\\b|\\b\\(?CTO\\)?|\\b\\(?CEO\\)?': '',\n",
    "    r'\\bChairman\\b|\\bVice\\b|\\bPresident\\b|\\bExecutive\\b': ' ',\n",
    "    r'\\(Founder\\)': ' ',\n",
    "    r'\"\\.\"': '\"\"',\n",
    "    r'\"\\( \\)\"': '\"\"',\n",
    "    r'\\bEmeritus\\b|\\bSVP\\b|\\bVP\\b|\\bEVP\\b': ' ',\n",
    "    r'\\bS&P 500\\b|\\bS&P 100\\b|\\bNYSE\\b|\\bcomponent\\b|\\bNasdaq-100\\b|\\bS&P 600\\b|\\bRussell 2000\\b|\\bDAX\\b': '',\n",
    "    r'\\bNasdaq\\b': '',\n",
    "    r'\" \"':'\"\"',\n",
    "    r',\\\",': '\",',\n",
    "    r' \\( \"': '\"',\n",
    "    r' \\( ,\"': ',',\n",
    "    r'\\[,':'[',\n",
    "    r'\\, \\],': ']',\n",
    "    r'\\\\u00a0,': '',\n",
    "    r', \"\" ,': ',',\n",
    "}\n",
    "\n",
    "print(len(data))\n",
    "\n",
    "for pattern, replace_with in patterns.items():\n",
    "    data = re.sub(pattern, replace_with, data)\n",
    "    print(pattern.ljust(15), len(data))\n"
   ]
  },
  {
   "cell_type": "markdown",
   "id": "63e2f4c6",
   "metadata": {},
   "source": [
    "doubtful for below, do this with caution!!\n",
    "* `\\(.*\\)` \n",
    "*  `\"\"`\n",
    "* `, ,` to `,`"
   ]
  },
  {
   "cell_type": "code",
   "execution_count": 4,
   "id": "43e48a07",
   "metadata": {},
   "outputs": [
    {
     "data": {
      "text/plain": [
       "5577"
      ]
     },
     "execution_count": 4,
     "metadata": {},
     "output_type": "execute_result"
    }
   ],
   "source": [
    "companies = json.loads(data)\n",
    "companies = companies.get('data', '')\n",
    "len(companies)"
   ]
  },
  {
   "cell_type": "code",
   "execution_count": 5,
   "id": "25431333",
   "metadata": {},
   "outputs": [],
   "source": [
    "skip_html_content = lambda x: x.find(\".mw-parser\") >= 0 or x.find(\".plainlist\") >= 0"
   ]
  },
  {
   "cell_type": "code",
   "execution_count": 6,
   "id": "9c878d3b",
   "metadata": {},
   "outputs": [
    {
     "data": {
      "text/plain": [
       "5577"
      ]
     },
     "execution_count": 6,
     "metadata": {},
     "output_type": "execute_result"
    }
   ],
   "source": [
    "clean_companies = {}\n",
    "for company_name in companies.keys():\n",
    "    company = companies[company_name]\n",
    "    temp = {}\n",
    "    for key in company.keys():\n",
    "        if skip_html_content(key):\n",
    "            continue\n",
    "        items = []\n",
    "        for item in company[key]:\n",
    "            if skip_html_content(item):\n",
    "                continue\n",
    "            items.append(item)\n",
    "        temp[key]=items\n",
    "    clean_companies[company_name] = temp\n",
    "    \n",
    "len(clean_companies)"
   ]
  },
  {
   "cell_type": "markdown",
   "id": "4dd7dc85",
   "metadata": {},
   "source": [
    "### Features Selection"
   ]
  },
  {
   "cell_type": "code",
   "execution_count": 7,
   "id": "7b6e41c7",
   "metadata": {},
   "outputs": [
    {
     "data": {
      "text/plain": [
       "1318"
      ]
     },
     "execution_count": 7,
     "metadata": {},
     "output_type": "execute_result"
    }
   ],
   "source": [
    "all_features = {}\n",
    "for company_name in clean_companies.keys():\n",
    "    company = companies[company_name]\n",
    "    for key in company.keys():\n",
    "        all_features[key] = all_features.get(key, 0) + 1\n",
    "        \n",
    "# Total unique features {feature: occurences}\n",
    "len(all_features)"
   ]
  },
  {
   "cell_type": "code",
   "execution_count": 56,
   "id": "df3f03b9",
   "metadata": {},
   "outputs": [],
   "source": [
    "# all_features"
   ]
  },
  {
   "cell_type": "code",
   "execution_count": 9,
   "id": "1593e2ae",
   "metadata": {},
   "outputs": [
    {
     "data": {
      "image/png": "[encoded data removed]",
      "text/plain": [
       "<Figure size 432x288 with 2 Axes>"
      ]
     },
     "metadata": {
      "needs_background": "light"
     },
     "output_type": "display_data"
    }
   ],
   "source": [
    "from mpl_toolkits.axes_grid1.inset_locator import inset_axes, InsetPosition\n",
    "\n",
    "# Plot histogram\n",
    "plt.hist(all_features.values(), bins=100, edgecolor='black')\n",
    "plt.xlabel('Feature Occurrences')\n",
    "plt.ylabel('Total Features')\n",
    "plt.title(f'{len(all_features)} Features and their occurrences')\n",
    "\n",
    "# Define the region of interest (bounding box)\n",
    "x1, x2 = 0, 400  # Define the range of x-axis values for the zoomed-in plot\n",
    "y1, y2 = 0, 100  # Define the range of y-axis values for the zoomed-in plot\n",
    "\n",
    "# Get the current axes\n",
    "ax = plt.gca()\n",
    "\n",
    "# Create a new inset axes within the original plot\n",
    "ax_zoom = inset_axes(ax, width=\"55%\", height=\"35%\", loc='upper right')\n",
    "\n",
    "# Plot the zoomed-in histogram within the inset axes\n",
    "ax_zoom.hist(all_features.values(), bins=100, edgecolor='black')\n",
    "ax_zoom.set_xlim(x1, x2)\n",
    "ax_zoom.set_ylim(y1, y2)\n",
    "ax_zoom.set_xlabel('Feature Occurrences')\n",
    "ax_zoom.set_ylabel('Total Features')\n",
    "\n",
    "plt.show()"
   ]
  },
  {
   "cell_type": "markdown",
   "id": "a30e26a5",
   "metadata": {},
   "source": [
    "#### Highly skewed towards left\n",
    "To qualify for company's main features, the expectation is that it should atleast occur in 1% of total companies "
   ]
  },
  {
   "cell_type": "code",
   "execution_count": 10,
   "id": "b57bf7fb",
   "metadata": {},
   "outputs": [
    {
     "data": {
      "text/plain": [
       "56"
      ]
     },
     "execution_count": 10,
     "metadata": {},
     "output_type": "execute_result"
    }
   ],
   "source": [
    "# Selecting threshold for filtering features: 1% of total companies\n",
    "threshold = round(0.01 * len(companies))\n",
    "threshold"
   ]
  },
  {
   "cell_type": "code",
   "execution_count": 11,
   "id": "9379c6d9",
   "metadata": {},
   "outputs": [
    {
     "data": {
      "text/plain": [
       "66"
      ]
     },
     "execution_count": 11,
     "metadata": {},
     "output_type": "execute_result"
    }
   ],
   "source": [
    "potential_features = dict(filter(lambda x:x[1]>threshold, list(all_features.items())))\n",
    "len(potential_features)"
   ]
  },
  {
   "cell_type": "code",
   "execution_count": 12,
   "id": "cea1d0fa",
   "metadata": {},
   "outputs": [
    {
     "data": {
      "text/plain": [
       "1252"
      ]
     },
     "execution_count": 12,
     "metadata": {},
     "output_type": "execute_result"
    }
   ],
   "source": [
    "irrelevant_features = dict(filter(lambda x:x[1]<=threshold, list(all_features.items())))\n",
    "len(irrelevant_features)"
   ]
  },
  {
   "cell_type": "markdown",
   "id": "04eaf6b8",
   "metadata": {},
   "source": [
    "#### We will manually verify later if any important features went in the irrelevant_features category"
   ]
  },
  {
   "cell_type": "code",
   "execution_count": 13,
   "id": "5a955278",
   "metadata": {},
   "outputs": [],
   "source": [
    "# sorted(irrelevant_features, key=lambda x:irrelevant_features.get(x), reverse=True)"
   ]
  },
  {
   "cell_type": "code",
   "execution_count": 14,
   "id": "b72da2b0",
   "metadata": {},
   "outputs": [
    {
     "data": {
      "image/png": "[encoded data removed]",
      "text/plain": [
       "<Figure size 432x288 with 2 Axes>"
      ]
     },
     "metadata": {
      "needs_background": "light"
     },
     "output_type": "display_data"
    }
   ],
   "source": [
    "# Plot histogram\n",
    "plt.hist(potential_features.values(), bins=100, edgecolor='black')\n",
    "plt.xlabel('Feature Occurrences')\n",
    "plt.ylabel('Total Features')\n",
    "plt.title(f'{len(potential_features)} Features and their occurrences')\n",
    "\n",
    "# Define the region of interest (bounding box)\n",
    "x1, x2 = 0, 500  # Define the range of x-axis values for the zoomed-in plot\n",
    "y1, y2 = 0, 15  # Define the range of y-axis values for the zoomed-in plot\n",
    "\n",
    "# Get the current axes\n",
    "ax = plt.gca()\n",
    "\n",
    "# Create a new inset axes within the original plot\n",
    "ax_zoom = inset_axes(ax, width=\"55%\", height=\"35%\", loc='upper right')\n",
    "\n",
    "# Plot the zoomed-in histogram within the inset axes\n",
    "ax_zoom.hist(potential_features.values(), bins=100, edgecolor='black')\n",
    "ax_zoom.set_xlim(x1, x2)\n",
    "ax_zoom.set_ylim(y1, y2)\n",
    "ax_zoom.set_xlabel('Feature Occurrences')\n",
    "ax_zoom.set_ylabel('Total Features')\n",
    "\n",
    "plt.show()"
   ]
  },
  {
   "cell_type": "markdown",
   "id": "a89fc4eb",
   "metadata": {},
   "source": [
    "#### Dividing 66 potential_features into two bucket, extra_features (less important) and selected_features (more relevant)"
   ]
  },
  {
   "cell_type": "code",
   "execution_count": 15,
   "id": "d4e7283f",
   "metadata": {},
   "outputs": [
    {
     "name": "stdout",
     "output_type": "stream",
     "text": [
      "Median: 169.5\n"
     ]
    }
   ],
   "source": [
    "# Find the median, will use this to filter more features (which can be stored in `extra_features`)\n",
    "median_value = np.median(list(potential_features.values()))\n",
    "print(\"Median:\", median_value)"
   ]
  },
  {
   "cell_type": "code",
   "execution_count": 16,
   "id": "82619c57",
   "metadata": {},
   "outputs": [
    {
     "data": {
      "text/plain": [
       "33"
      ]
     },
     "execution_count": 16,
     "metadata": {},
     "output_type": "execute_result"
    }
   ],
   "source": [
    "selected_features = dict(filter(lambda x:x[1]>median_value, list(potential_features.items())))\n",
    "len(selected_features)"
   ]
  },
  {
   "cell_type": "code",
   "execution_count": 17,
   "id": "63b57689",
   "metadata": {},
   "outputs": [
    {
     "data": {
      "text/plain": [
       "33"
      ]
     },
     "execution_count": 17,
     "metadata": {},
     "output_type": "execute_result"
    }
   ],
   "source": [
    "extra_features = dict(filter(lambda x:x[1]<=median_value, list(potential_features.items())))\n",
    "len(extra_features)"
   ]
  },
  {
   "cell_type": "markdown",
   "id": "534941a0",
   "metadata": {},
   "source": [
    "### Cleaning & Extracting selected_features"
   ]
  },
  {
   "cell_type": "code",
   "execution_count": 18,
   "id": "45af8ae2",
   "metadata": {},
   "outputs": [
    {
     "data": {
      "text/plain": [
       "{'Type': 3842,\n",
       " 'Traded as': 1279,\n",
       " 'Industry': 3818,\n",
       " 'Founded': 4359,\n",
       " 'Founders': 618,\n",
       " 'Headquarters': 4366,\n",
       " 'Area served': 1468,\n",
       " 'Key people': 3196,\n",
       " 'Products': 2627,\n",
       " 'Revenue': 1966,\n",
       " 'Parent': 1127,\n",
       " 'Website': 4289,\n",
       " 'Predecessor': 274,\n",
       " 'Founder': 1678,\n",
       " 'Fate': 408,\n",
       " 'Location': 199,\n",
       " 'Operating income': 946,\n",
       " 'Net income': 1194,\n",
       " 'Total assets': 1105,\n",
       " 'Total equity': 944,\n",
       " 'Number of employees': 2498,\n",
       " 'Trade name': 271,\n",
       " 'Formerly': 507,\n",
       " 'Defunct': 419,\n",
       " 'Successor': 185,\n",
       " 'Owner': 674,\n",
       " 'Services': 514,\n",
       " 'Brands': 172,\n",
       " 'Genre': 195,\n",
       " 'Number of locations': 884,\n",
       " 'Subsidiaries': 653,\n",
       " 'Divisions': 287,\n",
       " 'ISIN': 174}"
      ]
     },
     "execution_count": 18,
     "metadata": {},
     "output_type": "execute_result"
    }
   ],
   "source": [
    "selected_features"
   ]
  },
  {
   "cell_type": "code",
   "execution_count": 19,
   "id": "f6986aad",
   "metadata": {},
   "outputs": [],
   "source": [
    "registrantNameDomainPattern = re.compile(r\"((?:[a-z0-9](?:[a-z0-9-]{0,61}[a-z0-9])?\\.)+[a-z0-9][a-z0-9-]{0,61}[a-z])\")\n",
    "\n",
    "def clean_domain(url):\n",
    "    # Remove leading \"http://\" or \"https://\"\n",
    "    url = url.lower().strip('\"').strip(\"'\")\n",
    "    if ' ' in url: \n",
    "        url = ''.join(url.split(' '))\n",
    "    url = re.sub(r'.*http?s?://', '', url)\n",
    "    # Remove leading \"www.\"\n",
    "    url = re.sub(r'.*www\\.', '', url)\n",
    "    # Remove any additional paths or parameters after the main domain\n",
    "    url = re.sub(r'/.*$', '', url)\n",
    "    # Remove any `.` in the end\n",
    "    url = url.strip('.')\n",
    "    # Remove any additional text after the top level domain\n",
    "    url = re.sub(r'\\.com.*$', '.com', url)\n",
    "    url = re.sub(r'\\.net.*$', '.net', url)\n",
    "    url = re.sub(r'\\.gov.*$', '.gov', url)\n",
    "    url = re.sub(r'\\.org.*$', '.org', url)\n",
    "    url = re.sub(r'\\.edu.*$', '.edu', url)\n",
    "    url = re.sub(r'\\.mil.*$', '.mil', url)\n",
    "    # Remove any url that doesn't contain `.`\n",
    "    url = '' if '.' not in url else url\n",
    "    # Match the regex pattern\n",
    "    match = registrantNameDomainPattern.search(url)\n",
    "    url = match.group(1) if match else url\n",
    "    return url\n",
    "\n",
    "def clean_boxes(s):\n",
    "    # Remove `[]`\n",
    "    s = re.sub(r'\\[\\d\\]', '', s)\n",
    "    return s\n",
    "\n",
    "def extract_year(text):\n",
    "    match = re.search(r'\\b\\d{4}\\b', text)\n",
    "    return str(match.group()) if match else ''"
   ]
  },
  {
   "cell_type": "code",
   "execution_count": 20,
   "id": "b9703e89",
   "metadata": {},
   "outputs": [
    {
     "data": {
      "text/plain": [
       "4908"
      ]
     },
     "execution_count": 20,
     "metadata": {},
     "output_type": "execute_result"
    }
   ],
   "source": [
    "clean_type = lambda x: [word.strip() for word in x.split(',') if re.findall(r'\\b\\w+ ?\\b',re.sub(r'\\(.*\\)','',word))]\n",
    "clean_parent = lambda x: [word.strip() for word in x.split(',') if re.findall(r'\\b\\w+ ?\\b',re.sub(r'\\(.*\\)|\\bLLC\\b|\\bInc.?\\b|\\bLtd.?\\b|\\band\\b|\\bIndependent\\b','',word))]\n",
    "\n",
    "clean_companies_with_selected_features = {}\n",
    "for company_name in clean_companies.keys():\n",
    "    company = clean_companies[company_name]\n",
    "    temp = {}\n",
    "    for key in company.keys():\n",
    "        if key not in selected_features:\n",
    "            continue\n",
    "        items = []\n",
    "        s = ''\n",
    "        for item in company[key]:\n",
    "            if key == 'Website':\n",
    "                s += f'{item}' if item != '' else ' '\n",
    "            elif key in ['Headquarters','Areas served', 'Area served', 'Number of locations', 'Total equity', 'Total assets', 'AUM',\n",
    "                         'Net income', 'Operating income', 'Revenue', 'Traded as', 'Founded', 'Employees', 'Number of employees']:\n",
    "                s += f' {item}' if item != '' else ' '\n",
    "                s = clean_boxes(s)\n",
    "            else:\n",
    "                s += f'{item},' if item != '' else ' '\n",
    "                s = clean_boxes(s)\n",
    "            if s.strip() != '':\n",
    "                if key == 'Website':\n",
    "                    temp['Domain']=clean_domain(s.strip())\n",
    "                elif key =='Founded':\n",
    "                    temp['Founded']=extract_year(s.strip())\n",
    "                elif key == 'Type':\n",
    "                    temp['Type']=' '.join(clean_type(s.strip()))\n",
    "                elif key == 'Parent':\n",
    "                    temp['Parent']=clean_parent(s.strip())\n",
    "                else:\n",
    "                    temp[key]=[s.strip()]\n",
    "        clean_companies_with_selected_features[company_name] = temp\n",
    "    \n",
    "len(clean_companies_with_selected_features)"
   ]
  },
  {
   "cell_type": "code",
   "execution_count": 21,
   "id": "a3a49724",
   "metadata": {},
   "outputs": [],
   "source": [
    "def combine_series_on_indexes_having_list_values(series1, series2):\n",
    "    \n",
    "    # Function to fill NaN values with empty lists\n",
    "    def _fill_with_empty_list(x):\n",
    "        return x if isinstance(x, list) else []\n",
    "\n",
    "    # Function to fill NaN values with empty lists\n",
    "    def _fill_empty_list_with_nan(x):\n",
    "        return np.nan if x==[] else x\n",
    "\n",
    "    # Function to combine the lists in Series 1 and Series 2\n",
    "    def _combine_lists(x, y):\n",
    "        if isinstance(x, list):\n",
    "            return x + y\n",
    "        elif isinstance(y, list):\n",
    "            return y\n",
    "        return []\n",
    "\n",
    "    series1 = series1.apply(_fill_with_empty_list)\n",
    "    series2 = series2.apply(_fill_with_empty_list)\n",
    "\n",
    "    # Create Series 3 by applying the function\n",
    "    series3 = series1.combine(series2, _combine_lists)\n",
    "    series3 = series3.apply(_fill_empty_list_with_nan)\n",
    "    return series3"
   ]
  },
  {
   "cell_type": "code",
   "execution_count": 22,
   "id": "4059310b",
   "metadata": {},
   "outputs": [
    {
     "data": {
      "text/plain": [
       "(4908, 33)"
      ]
     },
     "execution_count": 22,
     "metadata": {},
     "output_type": "execute_result"
    }
   ],
   "source": [
    "df = pd.DataFrame(clean_companies_with_selected_features).T\n",
    "df.shape"
   ]
  },
  {
   "cell_type": "code",
   "execution_count": 23,
   "id": "7290d770",
   "metadata": {},
   "outputs": [],
   "source": [
    "df['Traded as'] = df['Traded as'].dropna().apply(lambda x:','.join(x)).apply(lambda x:''.join(x.split(':')).strip())\n",
    "df['Headquarters'] = df['Headquarters'].dropna().apply(lambda x:' '.join((','.join((' '.join(x)).split(' '))).split(',')))\n",
    "df.loc[df['Founded']=='', 'Founded'] = np.nan"
   ]
  },
  {
   "cell_type": "code",
   "execution_count": 24,
   "id": "f703119c",
   "metadata": {},
   "outputs": [],
   "source": [
    "df['Founders'] = combine_series_on_indexes_having_list_values(df['Founders'], df['Founder'])\n",
    "df['Key people'] = combine_series_on_indexes_having_list_values(df['Key people'], df['Owner'])\n",
    "df['People'] = combine_series_on_indexes_having_list_values(df['Key people'], df['Founders'])\n",
    "df.drop('Owner', axis=1, inplace=True)\n",
    "df.drop('Founder', axis=1, inplace=True)\n",
    "df.drop('Founders', axis=1, inplace=True)\n",
    "df.drop('Key people', axis=1, inplace=True)"
   ]
  },
  {
   "cell_type": "code",
   "execution_count": 25,
   "id": "75e88769",
   "metadata": {},
   "outputs": [],
   "source": [
    "df['Industry'] = combine_series_on_indexes_having_list_values(df['Industry'], df['Genre'])\n",
    "df.drop('Genre', axis=1, inplace=True)"
   ]
  },
  {
   "cell_type": "code",
   "execution_count": 26,
   "id": "250ac590",
   "metadata": {},
   "outputs": [],
   "source": [
    "df['Products_and_Services'] = combine_series_on_indexes_having_list_values(df['Products'], df['Services'])\n",
    "df.drop('Products', axis=1, inplace=True)\n",
    "df.drop('Services', axis=1, inplace=True)"
   ]
  },
  {
   "cell_type": "code",
   "execution_count": 27,
   "id": "32cc1dac",
   "metadata": {},
   "outputs": [],
   "source": [
    "df['Subsidiaries'] = combine_series_on_indexes_having_list_values(df['Subsidiaries'], df['Divisions'])\n",
    "df.drop('Divisions', axis=1, inplace=True)"
   ]
  },
  {
   "cell_type": "code",
   "execution_count": 28,
   "id": "c1b275a6",
   "metadata": {},
   "outputs": [],
   "source": [
    "df['Aliases'] = combine_series_on_indexes_having_list_values(df['Successor'], df['Formerly'])\n",
    "df['Aliases'] = combine_series_on_indexes_having_list_values(df['Trade name'], df['Aliases'])\n",
    "df['Aliases'] = combine_series_on_indexes_having_list_values(df['Predecessor'], df['Aliases'])\n",
    "df.drop('Successor', axis=1, inplace=True)\n",
    "df.drop('Formerly', axis=1, inplace=True)\n",
    "df.drop('Trade name', axis=1, inplace=True)\n",
    "df.drop('Predecessor', axis=1, inplace=True)"
   ]
  },
  {
   "cell_type": "code",
   "execution_count": 29,
   "id": "025f5b46",
   "metadata": {},
   "outputs": [],
   "source": [
    "df['Locations'] = combine_series_on_indexes_having_list_values(df['Number of locations'], df['Area served'])\n",
    "df['Locations'] = combine_series_on_indexes_having_list_values(df['Locations'], df['Location'])\n",
    "df.drop('Area served', axis=1, inplace=True)\n",
    "df.drop('Number of locations', axis=1, inplace=True)\n",
    "df.drop('Location', axis=1, inplace=True)"
   ]
  },
  {
   "cell_type": "code",
   "execution_count": 30,
   "id": "ebed6397",
   "metadata": {},
   "outputs": [],
   "source": [
    "#df['is_defunct'] = np.nan\n",
    "#df.loc[df['Defunct'].dropna().index]['is_defunct'] = True\n",
    "#df.drop('Defunct', axis=1, inplace=True)"
   ]
  },
  {
   "cell_type": "code",
   "execution_count": 31,
   "id": "0804f98b",
   "metadata": {
    "scrolled": true
   },
   "outputs": [],
   "source": [
    "df[\"Fate\"] = df[\"Fate\"].dropna().apply(lambda x:' '.join(x[0].split(',')))"
   ]
  },
  {
   "cell_type": "code",
   "execution_count": 32,
   "id": "b6d48439",
   "metadata": {},
   "outputs": [],
   "source": [
    "for col in ['Total equity', 'Total assets', 'Net income', 'Operating income', 'Revenue']:\n",
    "    df[col] = df[col].dropna().apply(lambda x: x[0])"
   ]
  },
  {
   "cell_type": "code",
   "execution_count": 33,
   "id": "a770fef0",
   "metadata": {},
   "outputs": [],
   "source": [
    "df.index = pd.Series(df.index.values).apply(lambda x:' '.join(x.split('_')))"
   ]
  },
  {
   "cell_type": "code",
   "execution_count": 34,
   "id": "88b3cc36",
   "metadata": {},
   "outputs": [],
   "source": [
    "df = df.dropna(how='all').dropna(how='all',axis=1)"
   ]
  },
  {
   "cell_type": "code",
   "execution_count": 35,
   "id": "5254a409",
   "metadata": {},
   "outputs": [
    {
     "data": {
      "text/plain": [
       "(4905, 22)"
      ]
     },
     "execution_count": 35,
     "metadata": {},
     "output_type": "execute_result"
    }
   ],
   "source": [
    "df.shape"
   ]
  },
  {
   "cell_type": "code",
   "execution_count": 36,
   "id": "86afecd0",
   "metadata": {},
   "outputs": [
    {
     "data": {
      "text/html": [
       "<div>\n",
       "<style scoped>\n",
       "    .dataframe tbody tr th:only-of-type {\n",
       "        vertical-align: middle;\n",
       "    }\n",
       "\n",
       "    .dataframe tbody tr th {\n",
       "        vertical-align: top;\n",
       "    }\n",
       "\n",
       "    .dataframe thead th {\n",
       "        text-align: right;\n",
       "    }\n",
       "</style>\n",
       "<table border=\"1\" class=\"dataframe\">\n",
       "  <thead>\n",
       "    <tr style=\"text-align: right;\">\n",
       "      <th></th>\n",
       "      <th>Type</th>\n",
       "      <th>Traded as</th>\n",
       "      <th>Industry</th>\n",
       "      <th>Founded</th>\n",
       "      <th>Headquarters</th>\n",
       "      <th>Revenue</th>\n",
       "      <th>Parent</th>\n",
       "      <th>Domain</th>\n",
       "      <th>Fate</th>\n",
       "      <th>Operating income</th>\n",
       "      <th>...</th>\n",
       "      <th>Total equity</th>\n",
       "      <th>Number of employees</th>\n",
       "      <th>Defunct</th>\n",
       "      <th>Brands</th>\n",
       "      <th>Subsidiaries</th>\n",
       "      <th>ISIN</th>\n",
       "      <th>People</th>\n",
       "      <th>Products_and_Services</th>\n",
       "      <th>Aliases</th>\n",
       "      <th>Locations</th>\n",
       "    </tr>\n",
       "  </thead>\n",
       "  <tbody>\n",
       "    <tr>\n",
       "      <th>EMC Corporation</th>\n",
       "      <td>Subsidiary</td>\n",
       "      <td>EMC</td>\n",
       "      <td>[Computer storage,]</td>\n",
       "      <td>1979</td>\n",
       "      <td>Round Rock  Texas  United States</td>\n",
       "      <td>US$ 41.224 billion</td>\n",
       "      <td>[Dell Technologies]</td>\n",
       "      <td>dell.com</td>\n",
       "      <td>NaN</td>\n",
       "      <td>NaN</td>\n",
       "      <td>...</td>\n",
       "      <td>NaN</td>\n",
       "      <td>NaN</td>\n",
       "      <td>NaN</td>\n",
       "      <td>NaN</td>\n",
       "      <td>NaN</td>\n",
       "      <td>NaN</td>\n",
       "      <td>[Jeff Clarke,( ,Infrastructure Solutions Group...</td>\n",
       "      <td>[See EMC products,]</td>\n",
       "      <td>NaN</td>\n",
       "      <td>[Worldwide]</td>\n",
       "    </tr>\n",
       "    <tr>\n",
       "      <th>IArchives, Inc.</th>\n",
       "      <td>Private subsidiary of Ancestry.com</td>\n",
       "      <td>NaN</td>\n",
       "      <td>[Historical documents,]</td>\n",
       "      <td>1994</td>\n",
       "      <td>Lindon  Utah  United States</td>\n",
       "      <td>NaN</td>\n",
       "      <td>[Ancestry.com LLC]</td>\n",
       "      <td>iarchives.com</td>\n",
       "      <td>Acquired</td>\n",
       "      <td>NaN</td>\n",
       "      <td>...</td>\n",
       "      <td>NaN</td>\n",
       "      <td>NaN</td>\n",
       "      <td>NaN</td>\n",
       "      <td>NaN</td>\n",
       "      <td>NaN</td>\n",
       "      <td>NaN</td>\n",
       "      <td>[Brian Hansen, general manager, Scott Christen...</td>\n",
       "      <td>NaN</td>\n",
       "      <td>[Automated Solutions, Inc.,]</td>\n",
       "      <td>[Worldwide]</td>\n",
       "    </tr>\n",
       "    <tr>\n",
       "      <th>The Kegs Drive-In</th>\n",
       "      <td>NaN</td>\n",
       "      <td>NaN</td>\n",
       "      <td>NaN</td>\n",
       "      <td>NaN</td>\n",
       "      <td>NaN</td>\n",
       "      <td>NaN</td>\n",
       "      <td>NaN</td>\n",
       "      <td>NaN</td>\n",
       "      <td>NaN</td>\n",
       "      <td>NaN</td>\n",
       "      <td>...</td>\n",
       "      <td>NaN</td>\n",
       "      <td>NaN</td>\n",
       "      <td>NaN</td>\n",
       "      <td>NaN</td>\n",
       "      <td>NaN</td>\n",
       "      <td>NaN</td>\n",
       "      <td>NaN</td>\n",
       "      <td>NaN</td>\n",
       "      <td>NaN</td>\n",
       "      <td>[901 N 5th St,Grand Forks, North Dakota,]</td>\n",
       "    </tr>\n",
       "    <tr>\n",
       "      <th>Vertica</th>\n",
       "      <td>NaN</td>\n",
       "      <td>NaN</td>\n",
       "      <td>[Database management, Data warehousing,]</td>\n",
       "      <td>2005</td>\n",
       "      <td>Cambridge  MA  United States</td>\n",
       "      <td>NaN</td>\n",
       "      <td>[OpenText]</td>\n",
       "      <td>vertica.com</td>\n",
       "      <td>NaN</td>\n",
       "      <td>NaN</td>\n",
       "      <td>...</td>\n",
       "      <td>NaN</td>\n",
       "      <td>NaN</td>\n",
       "      <td>NaN</td>\n",
       "      <td>NaN</td>\n",
       "      <td>NaN</td>\n",
       "      <td>NaN</td>\n",
       "      <td>[Mark Barrenechea,( and ,, Andrew Palmer and M...</td>\n",
       "      <td>[Vertica Analytics Database, Vertica SQL on Da...</td>\n",
       "      <td>NaN</td>\n",
       "      <td>NaN</td>\n",
       "    </tr>\n",
       "    <tr>\n",
       "      <th>The Hartford</th>\n",
       "      <td>Public</td>\n",
       "      <td>HIG  Component</td>\n",
       "      <td>[Insurance,Mutual funds,]</td>\n",
       "      <td>1810</td>\n",
       "      <td>Hartford  Connecticut  U.S.</td>\n",
       "      <td>US$20.74 billion</td>\n",
       "      <td>NaN</td>\n",
       "      <td>thehartford.com</td>\n",
       "      <td>NaN</td>\n",
       "      <td>US$2.82 billion</td>\n",
       "      <td>...</td>\n",
       "      <td>US$16.27 billion</td>\n",
       "      <td>[~19,500]</td>\n",
       "      <td>NaN</td>\n",
       "      <td>NaN</td>\n",
       "      <td>NaN</td>\n",
       "      <td>NaN</td>\n",
       "      <td>[Christopher J. Swift,(  &amp; ,Beth A. Costello,(...</td>\n",
       "      <td>[Automobile insurance,Property insurance,Gener...</td>\n",
       "      <td>NaN</td>\n",
       "      <td>NaN</td>\n",
       "    </tr>\n",
       "    <tr>\n",
       "      <th>...</th>\n",
       "      <td>...</td>\n",
       "      <td>...</td>\n",
       "      <td>...</td>\n",
       "      <td>...</td>\n",
       "      <td>...</td>\n",
       "      <td>...</td>\n",
       "      <td>...</td>\n",
       "      <td>...</td>\n",
       "      <td>...</td>\n",
       "      <td>...</td>\n",
       "      <td>...</td>\n",
       "      <td>...</td>\n",
       "      <td>...</td>\n",
       "      <td>...</td>\n",
       "      <td>...</td>\n",
       "      <td>...</td>\n",
       "      <td>...</td>\n",
       "      <td>...</td>\n",
       "      <td>...</td>\n",
       "      <td>...</td>\n",
       "      <td>...</td>\n",
       "    </tr>\n",
       "    <tr>\n",
       "      <th>Buck Knives</th>\n",
       "      <td>Corporation</td>\n",
       "      <td>NaN</td>\n",
       "      <td>[Manufacturing,]</td>\n",
       "      <td>1902</td>\n",
       "      <td>Post Falls  Idaho</td>\n",
       "      <td>US$80 million</td>\n",
       "      <td>NaN</td>\n",
       "      <td>buckknives.com</td>\n",
       "      <td>NaN</td>\n",
       "      <td>NaN</td>\n",
       "      <td>...</td>\n",
       "      <td>NaN</td>\n",
       "      <td>[320]</td>\n",
       "      <td>NaN</td>\n",
       "      <td>NaN</td>\n",
       "      <td>NaN</td>\n",
       "      <td>NaN</td>\n",
       "      <td>[Hoyt Buck, Founder; Al Buck, former ; Chuck B...</td>\n",
       "      <td>[Knives,]</td>\n",
       "      <td>NaN</td>\n",
       "      <td>NaN</td>\n",
       "    </tr>\n",
       "    <tr>\n",
       "      <th>Life Fitness</th>\n",
       "      <td>Portfolio company</td>\n",
       "      <td>NaN</td>\n",
       "      <td>NaN</td>\n",
       "      <td>1977</td>\n",
       "      <td>Franklin Park  Illinois</td>\n",
       "      <td>NaN</td>\n",
       "      <td>NaN</td>\n",
       "      <td>lifefitness.com</td>\n",
       "      <td>NaN</td>\n",
       "      <td>NaN</td>\n",
       "      <td>...</td>\n",
       "      <td>NaN</td>\n",
       "      <td>[2,460]</td>\n",
       "      <td>NaN</td>\n",
       "      <td>[Life Fitness,Hammer Strength,Cybex,Indoor Cyc...</td>\n",
       "      <td>NaN</td>\n",
       "      <td>NaN</td>\n",
       "      <td>[Paul Stoneham ,, KPS Capital Partners,, Augie...</td>\n",
       "      <td>NaN</td>\n",
       "      <td>NaN</td>\n",
       "      <td>NaN</td>\n",
       "    </tr>\n",
       "    <tr>\n",
       "      <th>Telemundo</th>\n",
       "      <td>Free-to-air television network</td>\n",
       "      <td>NaN</td>\n",
       "      <td>NaN</td>\n",
       "      <td>1984</td>\n",
       "      <td>Miami   Florida  U.S.</td>\n",
       "      <td>NaN</td>\n",
       "      <td>[NBCUniversal Telemundo Enterprises, NBCUniver...</td>\n",
       "      <td>telemundo.com</td>\n",
       "      <td>NaN</td>\n",
       "      <td>NaN</td>\n",
       "      <td>...</td>\n",
       "      <td>NaN</td>\n",
       "      <td>NaN</td>\n",
       "      <td>NaN</td>\n",
       "      <td>NaN</td>\n",
       "      <td>NaN</td>\n",
       "      <td>NaN</td>\n",
       "      <td>[Beau Ferrari,(  of NBCUniversal Telemundo Ent...</td>\n",
       "      <td>NaN</td>\n",
       "      <td>NaN</td>\n",
       "      <td>NaN</td>\n",
       "    </tr>\n",
       "    <tr>\n",
       "      <th>Crain Communications</th>\n",
       "      <td>Private</td>\n",
       "      <td>NaN</td>\n",
       "      <td>[News, periodicals,]</td>\n",
       "      <td>1916</td>\n",
       "      <td>Detroit  Michigan   U.S.</td>\n",
       "      <td>NaN</td>\n",
       "      <td>NaN</td>\n",
       "      <td>crain.com</td>\n",
       "      <td>NaN</td>\n",
       "      <td>NaN</td>\n",
       "      <td>...</td>\n",
       "      <td>NaN</td>\n",
       "      <td>NaN</td>\n",
       "      <td>NaN</td>\n",
       "      <td>NaN</td>\n",
       "      <td>NaN</td>\n",
       "      <td>NaN</td>\n",
       "      <td>[Keith Evans Crain, Christoper Crain,, Crain f...</td>\n",
       "      <td>[Advertising Age,Autoweek,Crain's Cleveland Bu...</td>\n",
       "      <td>NaN</td>\n",
       "      <td>NaN</td>\n",
       "    </tr>\n",
       "    <tr>\n",
       "      <th>Lifetime Products</th>\n",
       "      <td>Private</td>\n",
       "      <td>NaN</td>\n",
       "      <td>NaN</td>\n",
       "      <td>1986</td>\n",
       "      <td>Clearfield  Utah  U.S.</td>\n",
       "      <td>NaN</td>\n",
       "      <td>NaN</td>\n",
       "      <td>lifetime.com</td>\n",
       "      <td>NaN</td>\n",
       "      <td>NaN</td>\n",
       "      <td>...</td>\n",
       "      <td>NaN</td>\n",
       "      <td>[2,200 worldwide]</td>\n",
       "      <td>NaN</td>\n",
       "      <td>NaN</td>\n",
       "      <td>NaN</td>\n",
       "      <td>NaN</td>\n",
       "      <td>[Richard Hendrickson,]</td>\n",
       "      <td>[folding chairs,folding tables,basketball syst...</td>\n",
       "      <td>NaN</td>\n",
       "      <td>NaN</td>\n",
       "    </tr>\n",
       "  </tbody>\n",
       "</table>\n",
       "<p>4905 rows × 22 columns</p>\n",
       "</div>"
      ],
      "text/plain": [
       "                                                    Type       Traded as  \\\n",
       "EMC Corporation                               Subsidiary             EMC   \n",
       "IArchives, Inc.       Private subsidiary of Ancestry.com             NaN   \n",
       "The Kegs Drive-In                                    NaN             NaN   \n",
       "Vertica                                              NaN             NaN   \n",
       "The Hartford                                      Public  HIG  Component   \n",
       "...                                                  ...             ...   \n",
       "Buck Knives                                  Corporation             NaN   \n",
       "Life Fitness                           Portfolio company             NaN   \n",
       "Telemundo                 Free-to-air television network             NaN   \n",
       "Crain Communications                             Private             NaN   \n",
       "Lifetime Products                                Private             NaN   \n",
       "\n",
       "                                                      Industry Founded  \\\n",
       "EMC Corporation                            [Computer storage,]    1979   \n",
       "IArchives, Inc.                        [Historical documents,]    1994   \n",
       "The Kegs Drive-In                                          NaN     NaN   \n",
       "Vertica               [Database management, Data warehousing,]    2005   \n",
       "The Hartford                         [Insurance,Mutual funds,]    1810   \n",
       "...                                                        ...     ...   \n",
       "Buck Knives                                   [Manufacturing,]    1902   \n",
       "Life Fitness                                               NaN    1977   \n",
       "Telemundo                                                  NaN    1984   \n",
       "Crain Communications                      [News, periodicals,]    1916   \n",
       "Lifetime Products                                          NaN    1986   \n",
       "\n",
       "                                          Headquarters             Revenue  \\\n",
       "EMC Corporation       Round Rock  Texas  United States  US$ 41.224 billion   \n",
       "IArchives, Inc.            Lindon  Utah  United States                 NaN   \n",
       "The Kegs Drive-In                                  NaN                 NaN   \n",
       "Vertica                   Cambridge  MA  United States                 NaN   \n",
       "The Hartford               Hartford  Connecticut  U.S.    US$20.74 billion   \n",
       "...                                                ...                 ...   \n",
       "Buck Knives                          Post Falls  Idaho       US$80 million   \n",
       "Life Fitness                   Franklin Park  Illinois                 NaN   \n",
       "Telemundo                        Miami   Florida  U.S.                 NaN   \n",
       "Crain Communications          Detroit  Michigan   U.S.                 NaN   \n",
       "Lifetime Products               Clearfield  Utah  U.S.                 NaN   \n",
       "\n",
       "                                                                 Parent  \\\n",
       "EMC Corporation                                     [Dell Technologies]   \n",
       "IArchives, Inc.                                      [Ancestry.com LLC]   \n",
       "The Kegs Drive-In                                                   NaN   \n",
       "Vertica                                                      [OpenText]   \n",
       "The Hartford                                                        NaN   \n",
       "...                                                                 ...   \n",
       "Buck Knives                                                         NaN   \n",
       "Life Fitness                                                        NaN   \n",
       "Telemundo             [NBCUniversal Telemundo Enterprises, NBCUniver...   \n",
       "Crain Communications                                                NaN   \n",
       "Lifetime Products                                                   NaN   \n",
       "\n",
       "                               Domain       Fate Operating income  ...  \\\n",
       "EMC Corporation              dell.com        NaN              NaN  ...   \n",
       "IArchives, Inc.         iarchives.com  Acquired               NaN  ...   \n",
       "The Kegs Drive-In                 NaN        NaN              NaN  ...   \n",
       "Vertica                   vertica.com        NaN              NaN  ...   \n",
       "The Hartford          thehartford.com        NaN  US$2.82 billion  ...   \n",
       "...                               ...        ...              ...  ...   \n",
       "Buck Knives            buckknives.com        NaN              NaN  ...   \n",
       "Life Fitness          lifefitness.com        NaN              NaN  ...   \n",
       "Telemundo               telemundo.com        NaN              NaN  ...   \n",
       "Crain Communications        crain.com        NaN              NaN  ...   \n",
       "Lifetime Products        lifetime.com        NaN              NaN  ...   \n",
       "\n",
       "                          Total equity Number of employees Defunct  \\\n",
       "EMC Corporation                    NaN                 NaN     NaN   \n",
       "IArchives, Inc.                    NaN                 NaN     NaN   \n",
       "The Kegs Drive-In                  NaN                 NaN     NaN   \n",
       "Vertica                            NaN                 NaN     NaN   \n",
       "The Hartford          US$16.27 billion           [~19,500]     NaN   \n",
       "...                                ...                 ...     ...   \n",
       "Buck Knives                        NaN               [320]     NaN   \n",
       "Life Fitness                       NaN             [2,460]     NaN   \n",
       "Telemundo                          NaN                 NaN     NaN   \n",
       "Crain Communications               NaN                 NaN     NaN   \n",
       "Lifetime Products                  NaN   [2,200 worldwide]     NaN   \n",
       "\n",
       "                                                                 Brands  \\\n",
       "EMC Corporation                                                     NaN   \n",
       "IArchives, Inc.                                                     NaN   \n",
       "The Kegs Drive-In                                                   NaN   \n",
       "Vertica                                                             NaN   \n",
       "The Hartford                                                        NaN   \n",
       "...                                                                 ...   \n",
       "Buck Knives                                                         NaN   \n",
       "Life Fitness          [Life Fitness,Hammer Strength,Cybex,Indoor Cyc...   \n",
       "Telemundo                                                           NaN   \n",
       "Crain Communications                                                NaN   \n",
       "Lifetime Products                                                   NaN   \n",
       "\n",
       "                     Subsidiaries ISIN  \\\n",
       "EMC Corporation               NaN  NaN   \n",
       "IArchives, Inc.               NaN  NaN   \n",
       "The Kegs Drive-In             NaN  NaN   \n",
       "Vertica                       NaN  NaN   \n",
       "The Hartford                  NaN  NaN   \n",
       "...                           ...  ...   \n",
       "Buck Knives                   NaN  NaN   \n",
       "Life Fitness                  NaN  NaN   \n",
       "Telemundo                     NaN  NaN   \n",
       "Crain Communications          NaN  NaN   \n",
       "Lifetime Products             NaN  NaN   \n",
       "\n",
       "                                                                 People  \\\n",
       "EMC Corporation       [Jeff Clarke,( ,Infrastructure Solutions Group...   \n",
       "IArchives, Inc.       [Brian Hansen, general manager, Scott Christen...   \n",
       "The Kegs Drive-In                                                   NaN   \n",
       "Vertica               [Mark Barrenechea,( and ,, Andrew Palmer and M...   \n",
       "The Hartford          [Christopher J. Swift,(  & ,Beth A. Costello,(...   \n",
       "...                                                                 ...   \n",
       "Buck Knives           [Hoyt Buck, Founder; Al Buck, former ; Chuck B...   \n",
       "Life Fitness          [Paul Stoneham ,, KPS Capital Partners,, Augie...   \n",
       "Telemundo             [Beau Ferrari,(  of NBCUniversal Telemundo Ent...   \n",
       "Crain Communications  [Keith Evans Crain, Christoper Crain,, Crain f...   \n",
       "Lifetime Products                                [Richard Hendrickson,]   \n",
       "\n",
       "                                                  Products_and_Services  \\\n",
       "EMC Corporation                                     [See EMC products,]   \n",
       "IArchives, Inc.                                                     NaN   \n",
       "The Kegs Drive-In                                                   NaN   \n",
       "Vertica               [Vertica Analytics Database, Vertica SQL on Da...   \n",
       "The Hartford          [Automobile insurance,Property insurance,Gener...   \n",
       "...                                                                 ...   \n",
       "Buck Knives                                                   [Knives,]   \n",
       "Life Fitness                                                        NaN   \n",
       "Telemundo                                                           NaN   \n",
       "Crain Communications  [Advertising Age,Autoweek,Crain's Cleveland Bu...   \n",
       "Lifetime Products     [folding chairs,folding tables,basketball syst...   \n",
       "\n",
       "                                           Aliases  \\\n",
       "EMC Corporation                                NaN   \n",
       "IArchives, Inc.       [Automated Solutions, Inc.,]   \n",
       "The Kegs Drive-In                              NaN   \n",
       "Vertica                                        NaN   \n",
       "The Hartford                                   NaN   \n",
       "...                                            ...   \n",
       "Buck Knives                                    NaN   \n",
       "Life Fitness                                   NaN   \n",
       "Telemundo                                      NaN   \n",
       "Crain Communications                           NaN   \n",
       "Lifetime Products                              NaN   \n",
       "\n",
       "                                                      Locations  \n",
       "EMC Corporation                                     [Worldwide]  \n",
       "IArchives, Inc.                                     [Worldwide]  \n",
       "The Kegs Drive-In     [901 N 5th St,Grand Forks, North Dakota,]  \n",
       "Vertica                                                     NaN  \n",
       "The Hartford                                                NaN  \n",
       "...                                                         ...  \n",
       "Buck Knives                                                 NaN  \n",
       "Life Fitness                                                NaN  \n",
       "Telemundo                                                   NaN  \n",
       "Crain Communications                                        NaN  \n",
       "Lifetime Products                                           NaN  \n",
       "\n",
       "[4905 rows x 22 columns]"
      ]
     },
     "execution_count": 36,
     "metadata": {},
     "output_type": "execute_result"
    }
   ],
   "source": [
    "df"
   ]
  },
  {
   "cell_type": "code",
   "execution_count": 37,
   "id": "61494eeb",
   "metadata": {},
   "outputs": [
    {
     "data": {
      "text/plain": [
       "Index(['Type', 'Traded as', 'Industry', 'Founded', 'Headquarters', 'Revenue',\n",
       "       'Parent', 'Domain', 'Fate', 'Operating income', 'Net income',\n",
       "       'Total assets', 'Total equity', 'Number of employees', 'Defunct',\n",
       "       'Brands', 'Subsidiaries', 'ISIN', 'People', 'Products_and_Services',\n",
       "       'Aliases', 'Locations'],\n",
       "      dtype='object')"
      ]
     },
     "execution_count": 37,
     "metadata": {},
     "output_type": "execute_result"
    }
   ],
   "source": [
    "df.columns"
   ]
  },
  {
   "cell_type": "code",
   "execution_count": 40,
   "id": "8973fb48",
   "metadata": {},
   "outputs": [
    {
     "data": {
      "text/html": [
       "<div>\n",
       "<style scoped>\n",
       "    .dataframe tbody tr th:only-of-type {\n",
       "        vertical-align: middle;\n",
       "    }\n",
       "\n",
       "    .dataframe tbody tr th {\n",
       "        vertical-align: top;\n",
       "    }\n",
       "\n",
       "    .dataframe thead th {\n",
       "        text-align: right;\n",
       "    }\n",
       "</style>\n",
       "<table border=\"1\" class=\"dataframe\">\n",
       "  <thead>\n",
       "    <tr style=\"text-align: right;\">\n",
       "      <th></th>\n",
       "      <th>count</th>\n",
       "      <th>unique</th>\n",
       "      <th>top</th>\n",
       "      <th>freq</th>\n",
       "    </tr>\n",
       "  </thead>\n",
       "  <tbody>\n",
       "    <tr>\n",
       "      <th>Type</th>\n",
       "      <td>3840</td>\n",
       "      <td>558</td>\n",
       "      <td>Private</td>\n",
       "      <td>981</td>\n",
       "    </tr>\n",
       "    <tr>\n",
       "      <th>Traded as</th>\n",
       "      <td>1279</td>\n",
       "      <td>1221</td>\n",
       "      <td>YELL  Component</td>\n",
       "      <td>4</td>\n",
       "    </tr>\n",
       "    <tr>\n",
       "      <th>Industry</th>\n",
       "      <td>3874</td>\n",
       "      <td>1883</td>\n",
       "      <td>[Retail,]</td>\n",
       "      <td>212</td>\n",
       "    </tr>\n",
       "    <tr>\n",
       "      <th>Founded</th>\n",
       "      <td>4357</td>\n",
       "      <td>226</td>\n",
       "      <td></td>\n",
       "      <td>140</td>\n",
       "    </tr>\n",
       "    <tr>\n",
       "      <th>Headquarters</th>\n",
       "      <td>4366</td>\n",
       "      <td>2986</td>\n",
       "      <td>Portland  Oregon  United States</td>\n",
       "      <td>27</td>\n",
       "    </tr>\n",
       "    <tr>\n",
       "      <th>Revenue</th>\n",
       "      <td>1966</td>\n",
       "      <td>1821</td>\n",
       "      <td>US$2.6 billion</td>\n",
       "      <td>5</td>\n",
       "    </tr>\n",
       "    <tr>\n",
       "      <th>Parent</th>\n",
       "      <td>1126</td>\n",
       "      <td>934</td>\n",
       "      <td>[FAT Brands]</td>\n",
       "      <td>7</td>\n",
       "    </tr>\n",
       "    <tr>\n",
       "      <th>Domain</th>\n",
       "      <td>4265</td>\n",
       "      <td>3942</td>\n",
       "      <td></td>\n",
       "      <td>176</td>\n",
       "    </tr>\n",
       "    <tr>\n",
       "      <th>Fate</th>\n",
       "      <td>408</td>\n",
       "      <td>349</td>\n",
       "      <td>Acquired</td>\n",
       "      <td>13</td>\n",
       "    </tr>\n",
       "    <tr>\n",
       "      <th>Operating income</th>\n",
       "      <td>945</td>\n",
       "      <td>874</td>\n",
       "      <td>$ 98 million</td>\n",
       "      <td>4</td>\n",
       "    </tr>\n",
       "    <tr>\n",
       "      <th>Net income</th>\n",
       "      <td>1194</td>\n",
       "      <td>1114</td>\n",
       "      <td>$ -10.8 million</td>\n",
       "      <td>4</td>\n",
       "    </tr>\n",
       "    <tr>\n",
       "      <th>Total assets</th>\n",
       "      <td>1105</td>\n",
       "      <td>1034</td>\n",
       "      <td>$ 1.586 billion</td>\n",
       "      <td>4</td>\n",
       "    </tr>\n",
       "    <tr>\n",
       "      <th>Total equity</th>\n",
       "      <td>944</td>\n",
       "      <td>876</td>\n",
       "      <td>$ -354 million</td>\n",
       "      <td>4</td>\n",
       "    </tr>\n",
       "    <tr>\n",
       "      <th>Number of employees</th>\n",
       "      <td>2496</td>\n",
       "      <td>1638</td>\n",
       "      <td>[5,000]</td>\n",
       "      <td>25</td>\n",
       "    </tr>\n",
       "    <tr>\n",
       "      <th>Defunct</th>\n",
       "      <td>419</td>\n",
       "      <td>328</td>\n",
       "      <td>[2015,]</td>\n",
       "      <td>9</td>\n",
       "    </tr>\n",
       "    <tr>\n",
       "      <th>Brands</th>\n",
       "      <td>172</td>\n",
       "      <td>161</td>\n",
       "      <td>[Various,]</td>\n",
       "      <td>5</td>\n",
       "    </tr>\n",
       "    <tr>\n",
       "      <th>Subsidiaries</th>\n",
       "      <td>832</td>\n",
       "      <td>785</td>\n",
       "      <td>[List of subsidiaries,]</td>\n",
       "      <td>8</td>\n",
       "    </tr>\n",
       "    <tr>\n",
       "      <th>ISIN</th>\n",
       "      <td>174</td>\n",
       "      <td>161</td>\n",
       "      <td>[US92343V1044,]</td>\n",
       "      <td>3</td>\n",
       "    </tr>\n",
       "    <tr>\n",
       "      <th>People</th>\n",
       "      <td>3992</td>\n",
       "      <td>3898</td>\n",
       "      <td>[Darren Hawkins,, U.S. Treasury,, G.C. \"Cleve\"...</td>\n",
       "      <td>4</td>\n",
       "    </tr>\n",
       "    <tr>\n",
       "      <th>Products_and_Services</th>\n",
       "      <td>2899</td>\n",
       "      <td>2544</td>\n",
       "      <td>[Financial services,]</td>\n",
       "      <td>32</td>\n",
       "    </tr>\n",
       "    <tr>\n",
       "      <th>Aliases</th>\n",
       "      <td>1044</td>\n",
       "      <td>995</td>\n",
       "      <td>[YRC Worldwide, Inc. ,Yellow Roadway Corporati...</td>\n",
       "      <td>4</td>\n",
       "    </tr>\n",
       "    <tr>\n",
       "      <th>Locations</th>\n",
       "      <td>2008</td>\n",
       "      <td>1207</td>\n",
       "      <td>[Worldwide]</td>\n",
       "      <td>520</td>\n",
       "    </tr>\n",
       "  </tbody>\n",
       "</table>\n",
       "</div>"
      ],
      "text/plain": [
       "                      count unique  \\\n",
       "Type                   3840    558   \n",
       "Traded as              1279   1221   \n",
       "Industry               3874   1883   \n",
       "Founded                4357    226   \n",
       "Headquarters           4366   2986   \n",
       "Revenue                1966   1821   \n",
       "Parent                 1126    934   \n",
       "Domain                 4265   3942   \n",
       "Fate                    408    349   \n",
       "Operating income        945    874   \n",
       "Net income             1194   1114   \n",
       "Total assets           1105   1034   \n",
       "Total equity            944    876   \n",
       "Number of employees    2496   1638   \n",
       "Defunct                 419    328   \n",
       "Brands                  172    161   \n",
       "Subsidiaries            832    785   \n",
       "ISIN                    174    161   \n",
       "People                 3992   3898   \n",
       "Products_and_Services  2899   2544   \n",
       "Aliases                1044    995   \n",
       "Locations              2008   1207   \n",
       "\n",
       "                                                                     top freq  \n",
       "Type                                                             Private  981  \n",
       "Traded as                                                YELL  Component    4  \n",
       "Industry                                                       [Retail,]  212  \n",
       "Founded                                                                   140  \n",
       "Headquarters                             Portland  Oregon  United States   27  \n",
       "Revenue                                                   US$2.6 billion    5  \n",
       "Parent                                                      [FAT Brands]    7  \n",
       "Domain                                                                    176  \n",
       "Fate                                                           Acquired    13  \n",
       "Operating income                                            $ 98 million    4  \n",
       "Net income                                               $ -10.8 million    4  \n",
       "Total assets                                             $ 1.586 billion    4  \n",
       "Total equity                                              $ -354 million    4  \n",
       "Number of employees                                              [5,000]   25  \n",
       "Defunct                                                          [2015,]    9  \n",
       "Brands                                                        [Various,]    5  \n",
       "Subsidiaries                                     [List of subsidiaries,]    8  \n",
       "ISIN                                                     [US92343V1044,]    3  \n",
       "People                 [Darren Hawkins,, U.S. Treasury,, G.C. \"Cleve\"...    4  \n",
       "Products_and_Services                              [Financial services,]   32  \n",
       "Aliases                [YRC Worldwide, Inc. ,Yellow Roadway Corporati...    4  \n",
       "Locations                                                    [Worldwide]  520  "
      ]
     },
     "execution_count": 40,
     "metadata": {},
     "output_type": "execute_result"
    }
   ],
   "source": [
    "df.describe().T"
   ]
  },
  {
   "cell_type": "code",
   "execution_count": 62,
   "id": "b352ae27",
   "metadata": {},
   "outputs": [
    {
     "data": {
      "text/plain": [
       "{'Coordinates': 66,\n",
       " 'AUM': 72,\n",
       " 'Production output': 57,\n",
       " 'Areas served': 80,\n",
       " 'IATA': 121,\n",
       " 'Hubs': 95,\n",
       " 'Fleet size': 101,\n",
       " 'Parent company': 111,\n",
       " 'Area': 118,\n",
       " 'Owners': 59,\n",
       " 'Country': 167,\n",
       " 'State': 113,\n",
       " 'County': 90,\n",
       " 'Government': 68,\n",
       " '•\\xa0Total': 85,\n",
       " '•\\xa0Land': 99,\n",
       " '•\\xa0Water': 99,\n",
       " 'Population': 101,\n",
       " '•\\xa0Density': 98,\n",
       " 'Time zone': 98,\n",
       " '•\\xa0Summer ': 97,\n",
       " 'Area code': 57,\n",
       " 'FIPS code': 88,\n",
       " 'Ceased operations': 60,\n",
       " 'URL': 58,\n",
       " 'Country of origin': 105,\n",
       " 'Official website': 88,\n",
       " 'Predecessors': 89,\n",
       " 'Elevation': 71,\n",
       " 'Destinations': 76,\n",
       " 'Employees': 64,\n",
       " 'Opened': 69,\n",
       " '': 58}"
      ]
     },
     "execution_count": 62,
     "metadata": {},
     "output_type": "execute_result"
    }
   ],
   "source": [
    "extra_features"
   ]
  },
  {
   "cell_type": "code",
   "execution_count": null,
   "id": "174bc8f1",
   "metadata": {},
   "outputs": [],
   "source": []
  },
  {
   "cell_type": "code",
   "execution_count": null,
   "id": "b7a4f9c2",
   "metadata": {},
   "outputs": [],
   "source": []
  },
  {
   "cell_type": "markdown",
   "id": "8f15a870",
   "metadata": {},
   "source": [
    "### Exploration"
   ]
  },
  {
   "cell_type": "code",
   "execution_count": 51,
   "id": "4a05bc59",
   "metadata": {},
   "outputs": [],
   "source": []
  },
  {
   "cell_type": "code",
   "execution_count": 52,
   "id": "21e4ea54",
   "metadata": {},
   "outputs": [
    {
     "data": {
      "text/plain": [
       "1999    81\n",
       "1996    79\n",
       "1997    77\n",
       "1993    66\n",
       "1983    65\n",
       "        ..\n",
       "1826     1\n",
       "1763     1\n",
       "1819     1\n",
       "1729     1\n",
       "1802     1\n",
       "Name: Founded, Length: 225, dtype: int64"
      ]
     },
     "execution_count": 52,
     "metadata": {},
     "output_type": "execute_result"
    }
   ],
   "source": [
    "df['Founded'].value_counts()"
   ]
  },
  {
   "cell_type": "code",
   "execution_count": null,
   "id": "2fd298fa",
   "metadata": {},
   "outputs": [],
   "source": [
    "df['Headquarters']"
   ]
  },
  {
   "cell_type": "code",
   "execution_count": null,
   "id": "c2885a26",
   "metadata": {},
   "outputs": [],
   "source": []
  },
  {
   "cell_type": "code",
   "execution_count": null,
   "id": "ab2533fd",
   "metadata": {},
   "outputs": [],
   "source": []
  },
  {
   "cell_type": "code",
   "execution_count": null,
   "id": "73a3ae93",
   "metadata": {},
   "outputs": [],
   "source": [
    "# Function to clean address components using regular expressions\n",
    "def clean_address_components(components):\n",
    "    if isinstance(components, list):\n",
    "        cleaned_components = [re.sub(r'[^a-zA-Z0-9\\s]', '', str(comp)).strip() for comp in components]\n",
    "        cleaned_components = [comp for comp in cleaned_components if comp]\n",
    "        return ', '.join(cleaned_components)\n",
    "    else:\n",
    "        \n",
    "        return components\n",
    "\n",
    "# Apply the cleaning function to the \"Headquarter\" column\n",
    "df_cleaned[\"Headquarter\"] = df_cleaned[\"Headquarters\"].apply(clean_address_components)\n"
   ]
  },
  {
   "cell_type": "code",
   "execution_count": null,
   "id": "567f9e19",
   "metadata": {},
   "outputs": [],
   "source": [
    "df[\"Net income\"].dropna()"
   ]
  },
  {
   "cell_type": "code",
   "execution_count": null,
   "id": "30bd8caf",
   "metadata": {},
   "outputs": [],
   "source": [
    "collect = {}\n",
    "for item in df['Headquarters'].dropna().apply(lambda x:x.split(' ')).values:\n",
    "    for word in item:\n",
    "        collect[word] = collect.get(word, 0) + 1"
   ]
  },
  {
   "cell_type": "code",
   "execution_count": null,
   "id": "e2ac84ec",
   "metadata": {},
   "outputs": [],
   "source": [
    "collect"
   ]
  },
  {
   "cell_type": "code",
   "execution_count": null,
   "id": "4aa765a1",
   "metadata": {},
   "outputs": [],
   "source": []
  },
  {
   "cell_type": "code",
   "execution_count": null,
   "id": "59697dc2",
   "metadata": {},
   "outputs": [],
   "source": []
  },
  {
   "cell_type": "code",
   "execution_count": null,
   "id": "9bce61a8",
   "metadata": {},
   "outputs": [],
   "source": []
  },
  {
   "cell_type": "code",
   "execution_count": null,
   "id": "f47574a2",
   "metadata": {},
   "outputs": [],
   "source": [
    "clean_list = lambda x: [word.strip() for word in x.split(',') if re.findall(r'\\b\\w+ ?\\b',re.sub(r'\\(.*\\)|\\bLLC\\b|\\bInc.?\\b|\\bLtd.?\\b|\\band\\b|\\bIndependent\\b','',word))]\n",
    "\n",
    "temp = {}\n",
    "col = 'Parent'\n",
    "for company in clean_companies_with_selected_features.keys():\n",
    "    content = clean_boxes(','.join(clean_companies_with_selected_features[company].get(col, [])))\n",
    "    temp[company] = content\n",
    "\n",
    "test = pd.DataFrame(temp, index=[col]).T.replace('', np.nan).dropna()[col].apply(lambda x:clean_list(x))\n",
    "test.to_dict()"
   ]
  },
  {
   "cell_type": "code",
   "execution_count": null,
   "id": "acf74c82",
   "metadata": {},
   "outputs": [],
   "source": [
    "test2 = pd.DataFrame(clean_companies_with_selected_features).T[['Domain']].replace('', np.nan).dropna()#.values.tolist()"
   ]
  },
  {
   "cell_type": "code",
   "execution_count": null,
   "id": "081b92ba",
   "metadata": {},
   "outputs": [],
   "source": [
    "test3 = pd.concat([test, test2], axis=1)\n",
    "test3\n",
    "\n",
    "\n",
    "# test3.loc[test3['Domain'].isna()]['website'].tolist()"
   ]
  },
  {
   "cell_type": "code",
   "execution_count": null,
   "id": "8dc12014",
   "metadata": {},
   "outputs": [],
   "source": []
  },
  {
   "cell_type": "code",
   "execution_count": null,
   "id": "0da41041",
   "metadata": {},
   "outputs": [],
   "source": []
  },
  {
   "cell_type": "code",
   "execution_count": null,
   "id": "0a38a2f5",
   "metadata": {},
   "outputs": [],
   "source": []
  },
  {
   "cell_type": "code",
   "execution_count": null,
   "id": "4b04e21a",
   "metadata": {},
   "outputs": [],
   "source": []
  },
  {
   "cell_type": "code",
   "execution_count": null,
   "id": "2482163a",
   "metadata": {},
   "outputs": [],
   "source": []
  },
  {
   "cell_type": "code",
   "execution_count": null,
   "id": "9d22594e",
   "metadata": {},
   "outputs": [],
   "source": [
    "output = {}\n",
    "\n",
    "drop_columns = []\n",
    "main_to_extra_cols = ['ISIN', 'AOC\\xa0#', 'Ceased operations', 'Fleet size', 'Hubs', 'Defunct', 'Destinations', 'Production output']\n",
    "extra_columns += main_to_extra_cols\n",
    "main_columns = list(filter(lambda x: x not in main_to_extra_cols, main_columns))\n",
    "\n",
    "for company_name in companies.keys():\n",
    "    if company_name in skip_companies.union(companies_with_no_data):\n",
    "        continue\n",
    "    company = companies[company_name]\n",
    "    main_columns_dict = {}\n",
    "    extra_columns_dict = {}\n",
    "    for key in company.keys():\n",
    "        if key.find(\".mw-parser\") >= 0 or key.find(\".plainlist\") >= 0 or key in drop_columns:\n",
    "            continue\n",
    "        s = ''\n",
    "        for item in company[key]:\n",
    "            if item.find(\".mw-parser\") >= 0 or item.find(\".plainlist\") >= 0:\n",
    "                continue\n",
    "            if key =='Website':\n",
    "                s += f'{item}' if item != '' else '\\n'\n",
    "                s = clean_domain(s)\n",
    "            elif key =='Employees' or key=='Number of employees':\n",
    "                s += f' {item}' if item != '' else '\\n'\n",
    "                s = clean_employees(s)\n",
    "                s = clean_boxes(s)\n",
    "            elif key =='Founded':\n",
    "                s += f' {item}' if item != '' else '\\n'\n",
    "                s = extract_year(s)\n",
    "            elif key in ['Headquarters','Areas served', 'Area served', 'Number of locations', 'Total equity', 'Total assets', 'AUM',\n",
    "                         'Net income', 'Operating income', 'Revenue', 'Traded as', 'Type']:\n",
    "                s += f' {item}' if item != '' else '\\n'\n",
    "                s = clean_boxes(s)\n",
    "            else:\n",
    "                s += f',{item}' if item != '' else '\\n'\n",
    "        if s.strip() != '' and key in main_columns:\n",
    "            main_columns_dict[key]=[s.strip()]\n",
    "        elif s.strip() != '' and key in extra_columns:\n",
    "            extra_columns_dict[key]=[s.strip()]\n",
    "    if extra_columns_dict:\n",
    "        main_columns_dict['info']=extra_columns_dict\n",
    "    output[company_name] = main_columns_dict"
   ]
  },
  {
   "cell_type": "code",
   "execution_count": null,
   "id": "42f71a6c",
   "metadata": {},
   "outputs": [],
   "source": []
  }
 ],
 "metadata": {
  "kernelspec": {
   "display_name": "Python 3 (ipykernel)",
   "language": "python",
   "name": "python3"
  },
  "language_info": {
   "codemirror_mode": {
    "name": "ipython",
    "version": 3
   },
   "file_extension": ".py",
   "mimetype": "text/x-python",
   "name": "python",
   "nbconvert_exporter": "python",
   "pygments_lexer": "ipython3",
   "version": "3.10.4"
  }
 },
 "nbformat": 4,
 "nbformat_minor": 5
}
